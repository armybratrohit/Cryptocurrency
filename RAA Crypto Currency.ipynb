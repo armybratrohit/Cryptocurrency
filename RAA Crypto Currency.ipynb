{
 "cells": [
  {
   "cell_type": "code",
   "execution_count": 1,
   "id": "a02605a7",
   "metadata": {},
   "outputs": [],
   "source": [
    "import hashlib\n",
    "import time"
   ]
  },
  {
   "cell_type": "markdown",
   "id": "92034e04",
   "metadata": {},
   "source": [
    "# Building the first block class"
   ]
  },
  {
   "cell_type": "code",
   "execution_count": 2,
   "id": "99904feb",
   "metadata": {},
   "outputs": [],
   "source": [
    "class Block:\n",
    "\n",
    "    def __init__(self, index, proof_no, prev_hash, data, timestamp=None):\n",
    "        self.index = index\n",
    "        self.proof_no = proof_no\n",
    "        self.prev_hash = prev_hash\n",
    "        self.data = data\n",
    "        self.timestamp = timestamp or time.time()\n",
    "\n",
    "    @property\n",
    "    def calculate_hash(self):\n",
    "        block_of_string = \"{}{}{}{}{}\".format(self.index, self.proof_no,\n",
    "                                              self.prev_hash, self.data,\n",
    "                                              self.timestamp)\n",
    "\n",
    "        return hashlib.sha256(block_of_string.encode()).hexdigest()\n",
    "\n",
    "    def __repr__(self):\n",
    "        return \"{} - {} - {} - {} - {}\".format(self.index, self.proof_no,\n",
    "                                               self.prev_hash, self.data,\n",
    "                                               self.timestamp)\n",
    "    \n"
   ]
  },
  {
   "cell_type": "markdown",
   "id": "56391ab6",
   "metadata": {},
   "source": [
    "# Sample Block Information"
   ]
  },
  {
   "cell_type": "code",
   "execution_count": 3,
   "id": "b92bef89",
   "metadata": {},
   "outputs": [
    {
     "data": {
      "text/plain": [
       "{'index': 2,\n",
       " 'proof': 21,\n",
       " 'prev_hash': '6e27587e8a27d6fe376d4fd9b4edc96c8890346579e5cbf558252b24a8257823',\n",
       " 'transactions': [{'sender': '0', 'recipient': 'Alison', 'quantity': 1}],\n",
       " 'timestamp': 1521646442.4096143}"
      ]
     },
     "execution_count": 3,
     "metadata": {},
     "output_type": "execute_result"
    }
   ],
   "source": [
    "{\n",
    "    \"index\": 2,\n",
    "    \"proof\": 21,\n",
    "    \"prev_hash\": \"6e27587e8a27d6fe376d4fd9b4edc96c8890346579e5cbf558252b24a8257823\",\n",
    "    \"transactions\": [\n",
    "        {'sender': '0', 'recipient': 'Alison', 'quantity': 1}\n",
    "    ],\n",
    "    \"timestamp\": 1521646442.4096143\n",
    "}"
   ]
  },
  {
   "cell_type": "markdown",
   "id": "ae913bb7",
   "metadata": {},
   "source": [
    "# Block Chain Class"
   ]
  },
  {
   "cell_type": "code",
   "execution_count": 4,
   "id": "860f8124",
   "metadata": {},
   "outputs": [],
   "source": [
    "class BlockChain:                                       #blockchain instantiated \n",
    "\n",
    "    def __init__(self):           \n",
    "        self.chain = []\n",
    "        self.current_data = []\n",
    "        self.nodes = set()\n",
    "        self.construct_genesis()\n",
    "        \n",
    "    def construct_genesis(self):                        #Initial Block                 \n",
    "        self.construct_block(proof_no=0, prev_hash=0)\n",
    "\n",
    "    def construct_block(self, proof_no, prev_hash):     \n",
    "        block = Block(\n",
    "        index=len(self.chain),\n",
    "        proof_no=proof_no,\n",
    "        prev_hash=prev_hash,\n",
    "        data=self.current_data)\n",
    "        self.current_data = []\n",
    "\n",
    "        self.chain.append(block)\n",
    "        return block\n",
    "    \n",
    "    @staticmethod\n",
    "    def check_validity(block, prev_block):            #Checking Validity and anomalies \n",
    "        if prev_block.index + 1 != block.index:\n",
    "            return False\n",
    "\n",
    "        elif prev_block.calculate_hash != block.prev_hash:\n",
    "            return False\n",
    "\n",
    "        elif not BlockChain.verifying_proof(block.proof_no, prev_block.proof_no):\n",
    "            return False\n",
    "\n",
    "        elif block.timestamp <= prev_block.timestamp:\n",
    "            return False\n",
    "    \n",
    "        return True\n",
    "    \n",
    "    def new_data(self, sender, recipient, quantity):    #New Transaction \n",
    "        self.current_data.append({\n",
    "            'sender': sender,\n",
    "            'recipient': recipient,\n",
    "            'quantity': quantity\n",
    "        })\n",
    "        return True\n",
    "    \n",
    "    @staticmethod\n",
    "    def proof_of_work(last_proof):                     #Proof of work concept to prevent blockchain abuse \n",
    "        '''this simple algorithm identifies a number f' such that hash(ff') contain 4 leading zeroes\n",
    "         f is the previous f'\n",
    "         f' is the new proof\n",
    "        '''\n",
    "        proof_no = 0\n",
    "        while BlockChain.verifying_proof(proof_no, last_proof) is False:\n",
    "            proof_no += 1\n",
    "\n",
    "        return proof_no\n",
    "\n",
    "\n",
    "    @staticmethod\n",
    "    def verifying_proof(last_proof, proof):\n",
    "        #verifying the proof: does hash(last_proof, proof) contain 4 leading zeroes?\n",
    "        guess = f'{last_proof}{proof}'.encode()\n",
    "        guess_hash = hashlib.sha256(guess).hexdigest()\n",
    "        return guess_hash[:4] == \"0000\"\n",
    "    @property\n",
    "    def latest_block(self):                       #Latest Block \n",
    "        return self.chain[-1]"
   ]
  },
  {
   "cell_type": "markdown",
   "id": "c78e0b24",
   "metadata": {},
   "source": [
    "# Testing of  code and adding a new transaction "
   ]
  },
  {
   "cell_type": "code",
   "execution_count": 5,
   "id": "1f31fcc6",
   "metadata": {},
   "outputs": [
    {
     "name": "stdout",
     "output_type": "stream",
     "text": [
      "***Mining RAA_Coin about to start***\n",
      "[0 - 0 - 0 - [] - 1657533504.671346]\n",
      "***Mining RAA_Coin has been successful***\n",
      "[0 - 0 - 0 - [] - 1657533504.671346, 1 - 88914 - c262d2b8ff306d58b12c8ab7b1e4900e9799f5666cd6e0b8231ce1fb1e5a3612 - [{'sender': '0', 'recipient': 'Alison', 'quantity': 1}] - 1657533504.9468632]\n"
     ]
    }
   ],
   "source": [
    "blockchain = BlockChain()\n",
    "\n",
    "#Mining\n",
    "\n",
    "print(\"***Mining RAA_Coin about to start***\")\n",
    "print(blockchain.chain)\n",
    "\n",
    "last_block = blockchain.latest_block\n",
    "last_proof_no = last_block.proof_no\n",
    "proof_no = blockchain.proof_of_work(last_proof_no)\n",
    "\n",
    "#Adding new transaction\n",
    "\n",
    "blockchain.new_data(\n",
    "    sender=\"0\",  #it implies that this node has created a new block\n",
    "    recipient=\"Alison\",  #let's send Alison some coins!\n",
    "    quantity=\n",
    "    1,  #creating a new block (or identifying the proof number) is awarded with 1\n",
    ")\n",
    "\n",
    "last_hash = last_block.calculate_hash\n",
    "block = blockchain.construct_block(proof_no, last_hash)\n",
    "\n",
    "#Mining Sucessful\n",
    "\n",
    "print(\"***Mining RAA_Coin has been successful***\")\n",
    "print(blockchain.chain)\n"
   ]
  },
  {
   "cell_type": "code",
   "execution_count": null,
   "id": "72828f78",
   "metadata": {},
   "outputs": [],
   "source": []
  },
  {
   "cell_type": "code",
   "execution_count": null,
   "id": "01b573e4",
   "metadata": {},
   "outputs": [],
   "source": []
  },
  {
   "cell_type": "code",
   "execution_count": null,
   "id": "c5dbb07f",
   "metadata": {},
   "outputs": [],
   "source": []
  },
  {
   "cell_type": "code",
   "execution_count": null,
   "id": "e4140895",
   "metadata": {},
   "outputs": [],
   "source": []
  },
  {
   "cell_type": "code",
   "execution_count": null,
   "id": "a87239ee",
   "metadata": {},
   "outputs": [],
   "source": []
  }
 ],
 "metadata": {
  "kernelspec": {
   "display_name": "Python 3",
   "language": "python",
   "name": "python3"
  },
  "language_info": {
   "codemirror_mode": {
    "name": "ipython",
    "version": 3
   },
   "file_extension": ".py",
   "mimetype": "text/x-python",
   "name": "python",
   "nbconvert_exporter": "python",
   "pygments_lexer": "ipython3",
   "version": "3.8.8"
  }
 },
 "nbformat": 4,
 "nbformat_minor": 5
}
